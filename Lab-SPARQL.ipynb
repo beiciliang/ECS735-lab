{
 "cells": [
  {
   "cell_type": "markdown",
   "metadata": {},
   "source": [
    "# The Semantic Web Lab – SPARQL\n",
    "\n",
    "## Session objectives:\n",
    "\n",
    "- Use of SPARQL to query remotely semantic end points\n",
    "\n",
    "- Practice of the SPARQL language\n",
    "\n",
    "- Merging of RDF data from multiple sources\n",
    "\n",
    "- Storage of RDF data\n",
    "\n",
    "- Visualisation of SPARQL queries\n",
    "\n",
    "## 1.  Introduction\n",
    "\n",
    "Over this lab we will use Python for developing simple programs that access, query, and manipulate RDF semantic data.\n",
    "You can see a quick python reference here:\n",
    "\n",
    "- Basic tutorial: http://docs.python.org/tutorial/ \n",
    "\n",
    "- Instruction videos: http://www.python.org/doc/av/\n",
    "\n",
    "A python program is run by invoking python followed by the name of the `.py` file. We will be going mostly in interactive mode through the python shell.\n",
    "\n",
    "The ITL machines are already prepared to run this lab sheet without further setup. If you want to work in your own computer you will need to install python, and the following additional python libraries:\n",
    "\n",
    "- sparql-wrapper http://sparql-wrapper.sourceforge.net/ \n",
    "\n",
    "- rdflib http://code.google.com/p/rdflib/\n",
    "\n",
    "- rdflibextras http://code.google.com/p/rdfextras/ \n",
    "\n",
    "- pyparsing http://pyparsing.wikispaces.com/\n",
    "\n",
    "- networkx http://networkx.lanl.gov/\n",
    "\n",
    "All the required source code is provided in this sheet.\n",
    "\n",
    "## 2. SPARQL Querying\n",
    "\n",
    "In this lab, we will query a remote endpoint at DBpedia, a community-created data source aiming to extract linked open data from Wikipedia. For creating the queries we are going to use the\n",
    "```\n",
    "‘’’Python way \n",
    "of\n",
    "defining \n",
    "Strings\n",
    "‘’’\n",
    "```\n",
    "This allows us to define multi-line Strings without any kind of scape characters.\n",
    "\n",
    "We will be using an additional library for performing the queries: SPARQLWrapper. Using this library, execute the following queries, to find out various things about the autonomous community of Asturias (Principality of Asturias http://en.wikipedia.org/wiki/Asturias) in Spain. The following queries are increasing in complexity.\n",
    "\n",
    "### 1) Simple SELECT Query:\n",
    "\n",
    "simple SPARQL query example (from the SPARQLWrapper web page):"
   ]
  },
  {
   "cell_type": "code",
   "execution_count": 1,
   "metadata": {},
   "outputs": [],
   "source": [
    "from SPARQLWrapper import SPARQLWrapper, JSON"
   ]
  },
  {
   "cell_type": "markdown",
   "metadata": {},
   "source": [
    "wrap the dbpedia SPARQL end-point:"
   ]
  },
  {
   "cell_type": "code",
   "execution_count": 2,
   "metadata": {},
   "outputs": [],
   "source": [
    "endpoint = SPARQLWrapper(\"http://dbpedia.org/sparql\")"
   ]
  },
  {
   "cell_type": "markdown",
   "metadata": {},
   "source": [
    "set the query string:"
   ]
  },
  {
   "cell_type": "code",
   "execution_count": 3,
   "metadata": {},
   "outputs": [],
   "source": [
    "endpoint.setQuery(\"\"\"\n",
    "PREFIX rdfs: <http://www.w3.org/2000/01/rdf-schema#>\n",
    "PREFIX dbpr: <http://dbpedia.org/resource/>\n",
    "SELECT ?label\n",
    "WHERE { dbpr:Asturias rdfs:label ?label }\n",
    "\"\"\")"
   ]
  },
  {
   "cell_type": "markdown",
   "metadata": {},
   "source": [
    "select the return format (e.g. XML, JSON etc...):"
   ]
  },
  {
   "cell_type": "code",
   "execution_count": 4,
   "metadata": {},
   "outputs": [],
   "source": [
    "endpoint.setReturnFormat(JSON)"
   ]
  },
  {
   "cell_type": "markdown",
   "metadata": {},
   "source": [
    "execute the query and convert into Python objects:\n",
    "\n",
    "Note: The JSON returned by the SPARQL endpoint is converted to nested Python dictionaries, so additional parsing is not required."
   ]
  },
  {
   "cell_type": "code",
   "execution_count": 5,
   "metadata": {},
   "outputs": [],
   "source": [
    "results = endpoint.query().convert()"
   ]
  },
  {
   "cell_type": "markdown",
   "metadata": {},
   "source": [
    "interpret the results:"
   ]
  },
  {
   "cell_type": "code",
   "execution_count": 6,
   "metadata": {},
   "outputs": [
    {
     "name": "stdout",
     "output_type": "stream",
     "text": [
      "Asturias\n",
      "منطقة أستورياس\n",
      "Asturien\n",
      "Asturias\n",
      "Asturies\n",
      "Asturie\n",
      "アストゥリアス州\n",
      "Asturië (regio)\n",
      "Asturia\n",
      "Astúrias\n",
      "Астурия\n",
      "阿斯图里亚斯\n"
     ]
    }
   ],
   "source": [
    "for res in results[\"results\"][\"bindings\"] :\n",
    "    print res['label']['value']"
   ]
  },
  {
   "cell_type": "markdown",
   "metadata": {},
   "source": [
    "### 2) SELECT Query with FILTER constraints: \n",
    "\n",
    "This query filters all labels other than the ones in English and Spanish."
   ]
  },
  {
   "cell_type": "code",
   "execution_count": 7,
   "metadata": {},
   "outputs": [
    {
     "name": "stdout",
     "output_type": "stream",
     "text": [
      "Asturias\n",
      "Asturias\n"
     ]
    }
   ],
   "source": [
    "from SPARQLWrapper import SPARQLWrapper, JSON\n",
    "endpoint = SPARQLWrapper(\"http://dbpedia.org/sparql\")\n",
    "\n",
    "endpoint.setQuery(\"\"\"\n",
    "PREFIX rdfs: <http://www.w3.org/2000/01/rdf-schema#>\n",
    "PREFIX dbpr: <http://dbpedia.org/resource/>\n",
    "SELECT ?label\n",
    "WHERE { dbpr:Asturias rdfs:label ?label .\n",
    "FILTER( LANG(?label)=\"es\" || LANG(?label)=\"en\") . }\n",
    "\"\"\")\n",
    "\n",
    "endpoint.setReturnFormat(JSON)\n",
    "results = endpoint.query().convert()\n",
    "for res in results[\"results\"][\"bindings\"] :\n",
    "    print res['label']['value']"
   ]
  },
  {
   "cell_type": "markdown",
   "metadata": {},
   "source": [
    "### 3) CONSTRUCT Query, obtain results in RDF/XML, and process them into an RDFLib graph"
   ]
  },
  {
   "cell_type": "code",
   "execution_count": 8,
   "metadata": {},
   "outputs": [],
   "source": [
    "from SPARQLWrapper import SPARQLWrapper, JSON, XML\n",
    "import rdflib\n",
    "from rdflib.graph import Graph\n",
    "from rdflib.namespace import Namespace\n",
    "from rdflib import plugin\n",
    "\n",
    "endpoint = SPARQLWrapper(\"http://dbpedia.org/sparql\")"
   ]
  },
  {
   "cell_type": "markdown",
   "metadata": {},
   "source": [
    "#### PART 1: Build a local RDF graph using a Construct query over DBpedia\n",
    "\n",
    "create a construct query template.\n",
    "\n",
    "NOTE: To keep it simple we create an exact copy matching a query in the local graph."
   ]
  },
  {
   "cell_type": "code",
   "execution_count": null,
   "metadata": {},
   "outputs": [],
   "source": [
    "construct_query = '''\n",
    "PREFIX rdfs: <http://www.w3.org/2000/01/rdf-schema#>\n",
    "CONSTRUCT {\n",
    "    <%(uri)s> a ?type .\n",
    "    <%(uri)s> ?property ?value .\n",
    "    <%(uri)s> rdfs:label ?label .\n",
    "    ?value rdfs:label ?vlabel .\n",
    "    ?property rdfs:label ?plabel . }\n",
    "WHERE {\n",
    "    <%(uri)s> a ?type.\n",
    "    <%(uri)s> ?property ?value .\n",
    "    <%(uri)s> rdfs:label ?label .\n",
    "    ?value rdfs:label ?vlabel .\n",
    "    ?property rdfs:label ?plabel . }'''"
   ]
  },
  {
   "cell_type": "markdown",
   "metadata": {},
   "source": [
    "set query and substitute an arbitrary URI into the template:"
   ]
  },
  {
   "cell_type": "code",
   "execution_count": null,
   "metadata": {},
   "outputs": [],
   "source": [
    "endpoint.setQuery(construct_query%{'uri':\"http://dbpedia.org/resource/Asturias\"})"
   ]
  },
  {
   "cell_type": "markdown",
   "metadata": {},
   "source": [
    "set the return format to XML:"
   ]
  },
  {
   "cell_type": "code",
   "execution_count": null,
   "metadata": {},
   "outputs": [],
   "source": [
    "endpoint.setReturnFormat(XML)"
   ]
  },
  {
   "cell_type": "markdown",
   "metadata": {},
   "source": [
    "execute the query："
   ]
  },
  {
   "cell_type": "code",
   "execution_count": null,
   "metadata": {},
   "outputs": [],
   "source": [
    "graph = endpoint.query().convert()"
   ]
  },
  {
   "cell_type": "markdown",
   "metadata": {},
   "source": [
    "list all triples to verify the RDF graph："
   ]
  },
  {
   "cell_type": "code",
   "execution_count": null,
   "metadata": {},
   "outputs": [],
   "source": [
    "for s,p,o in graph:\n",
    "    print \"Subject => \" + s\n",
    "    print \"Predicate => \" + p\n",
    "    print \"Object => \" + o"
   ]
  },
  {
   "cell_type": "markdown",
   "metadata": {},
   "source": [
    "#### PART2: query the resulting RDF graph\n",
    "\n",
    "register the SPARQL plugin for rdflib:"
   ]
  },
  {
   "cell_type": "code",
   "execution_count": null,
   "metadata": {},
   "outputs": [],
   "source": [
    "plugin.register(\n",
    " 'sparql', rdflib.query.Processor,\n",
    " 'rdfextras.sparql.processor', 'Processor')\n",
    "plugin.register(\n",
    " 'sparql', rdflib.query.Result,\n",
    " 'rdfextras.sparql.query', 'SPARQLQueryResult')"
   ]
  },
  {
   "cell_type": "markdown",
   "metadata": {},
   "source": [
    "language tag, change it to see the results in Spanish, rather than in English:"
   ]
  },
  {
   "cell_type": "code",
   "execution_count": null,
   "metadata": {},
   "outputs": [],
   "source": [
    "Language = \"es\""
   ]
  },
  {
   "cell_type": "markdown",
   "metadata": {},
   "source": [
    "query the model constructed by the previous CONSTRUCT query:"
   ]
  },
  {
   "cell_type": "code",
   "execution_count": null,
   "metadata": {},
   "outputs": [],
   "source": [
    "query = graph.query(\"\"\"\n",
    "PREFIX dbpo: <http://dbpedia.org/ontology/>\n",
    "PREFIX dbpp: <http://dbpedia.org/property/>\n",
    "PREFIX rdfs: <http://www.w3.org/2000/01/rdf-schema#>\n",
    "SELECT DISTINCT ?location ?party ?leader\n",
    "WHERE {\n",
    "    <http://dbpedia.org/resource/Asturias> rdfs:label ?location .\n",
    "    <http://dbpedia.org/resource/Asturias> dbpp:leaderName ?leaderResource .\n",
    "    ?leaderResource rdfs:label ?leader .\n",
    "    <http://dbpedia.org/resource/Asturias> dbpo:leaderParty ?partyResource .\n",
    "    ?partyResource rdfs:label ?party .\n",
    "FILTER( LANG(?location)=\"%(lang)s\" && LANG(?party)=\"%(lang)s\" && LANG(?leader)=\"%(lang)s\") . }\"\"\" %{'lang':Language})"
   ]
  },
  {
   "cell_type": "markdown",
   "metadata": {},
   "source": [
    "print the results:"
   ]
  },
  {
   "cell_type": "code",
   "execution_count": null,
   "metadata": {},
   "outputs": [],
   "source": [
    "print \"RESULTS:\"\n",
    "for row in query.result:\n",
    "    print(\"The leader party of %s is %s who's leader is %s.\" % row)"
   ]
  },
  {
   "cell_type": "markdown",
   "metadata": {},
   "source": [
    "#### PART3: using the interactive DBpedia end-point\n",
    "\n",
    "Access the interactive DBpedia end-point at: http://dbpedia.org/isparql/\n",
    "\n",
    "Select the Advanced tab and type the following query into the window:\n",
    "```   \n",
    "PREFIX dbpedia: <http://dbpedia.org/resource/>\n",
    "PREFIX rdfs: <http://www.w3.org/2000/01/rdf-schema#>\n",
    "PREFIX dbpo: <http://dbpedia.org/ontology/>\n",
    "SELECT DISTINCT ?location ?leader ?party\n",
    "FROM <http://dbpedia.org>\n",
    "WHERE {\n",
    "dbpedia:Asturias rdfs:label ?location ;\n",
    "dbpo:leaderName ?leaderResource .\n",
    "?leaderResource rdfs:label ?leader .\n",
    "dbpedia:Asturias dbpo:leaderParty ?partyResource .\n",
    "?partyResource rdfs:label ?party .\n",
    "}\n",
    "```\n",
    "Select QBE (query by example) and click the “Get from Advanced” iconRun the query by clicking the play icon."
   ]
  }
 ],
 "metadata": {
  "kernelspec": {
   "display_name": "Python 2",
   "language": "python",
   "name": "python2"
  },
  "language_info": {
   "codemirror_mode": {
    "name": "ipython",
    "version": 2
   },
   "file_extension": ".py",
   "mimetype": "text/x-python",
   "name": "python",
   "nbconvert_exporter": "python",
   "pygments_lexer": "ipython2",
   "version": "2.7.14"
  }
 },
 "nbformat": 4,
 "nbformat_minor": 2
}
