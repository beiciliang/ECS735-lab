{
 "cells": [
  {
   "cell_type": "markdown",
   "metadata": {},
   "source": [
    "# The Semantic Web Lab – RDF and RDFlib\n",
    "\n",
    "## Session objectives:\n",
    "\n",
    "- Familiarization with the Python language for creating simple Semantic Web programs.\n",
    "\n",
    "- Familiarization with the RDFLib library to load and manipulate RDF graphs.\n",
    "\n",
    "## 1.  Introduction\n",
    "\n",
    "Over this lab we will use Python2 for developing simple programs that access, query, and manipulate RDF semantic data.\n",
    "\n",
    "You can see a quick python reference here:\n",
    "\n",
    "- Basic tutorial: http://docs.python.org/2/tutorial/\n",
    "\n",
    "A python program is run by invoking python followed by the name of the ‘.py’ file. Interactive mode is also possible through the python shell.\n",
    "\n",
    "The ITL machines are already prepared to run this lab sheet without further setup. If you want to work in your own computer you will need to install python, and the following additional python libraries:\n",
    "\n",
    "- sparql-wrapper https://github.com/RDFLib/sparqlwrapper \n",
    "\n",
    "- rdflib https://github.com/RDFLib/rdflib\n",
    "\n",
    "- pyparsing http://pyparsing.wikispaces.com/\n",
    "\n",
    "- networkx http://networkx.lanl.gov/\n",
    "\n",
    "You can also download sample scripts for this week from QMplus. \n",
    "\n",
    "\n",
    "## 2. RDFLib Graph Processing\n",
    "\n",
    "In http://workingontologist.org/Examples/Chapter3/shakespeare.n3 you can download an RDF graph serialized using Turtle syntax. Download (saved as `shakespeare.n3`) and open the file using a text editor, and count how many triples are defined there.\n",
    "\n",
    "Have a look at the prefixes and defined triples. How many different concepts are defined in the graph? How many properties?\n",
    "\n",
    "Before starting up Python, if you are in the ITL set up the python environment by invoking the following command from the shell:\n",
    "\n",
    "```\n",
    "export PYTHONPATH=/import/linux/python/lib/python\n",
    "```\n",
    "\n",
    "We will now use python to programmatically process the file. Open python in interactive shell mode (type `python` from command line). You should see a console output similar to:\n",
    "```\n",
    "Python 2.7.2 (default, Oct 27 2011, 01:40:22)\n",
    "[GCC 4.6.1 20111003 (Red Hat 4.6.1-10)] on linux2\n",
    "Type \"help\", \"copyright\", \"credits\" or \"license\" for more\n",
    "information.\n",
    ">>>\n",
    "```\n",
    "\n",
    "You can familiarize with python syntax and the interactive shell by running some commands from:\n",
    "\n",
    "http://docs.python.org/tutorial/introduction.html#using-python-as-a-calculator\n",
    "\n",
    "Before using rdflib classes you will need to add some import declarations. Write the following sentences in the shell:"
   ]
  },
  {
   "cell_type": "code",
   "execution_count": 1,
   "metadata": {},
   "outputs": [],
   "source": [
    "import warnings\n",
    "warnings.filterwarnings('ignore')"
   ]
  },
  {
   "cell_type": "code",
   "execution_count": 2,
   "metadata": {},
   "outputs": [],
   "source": [
    "import rdflib\n",
    "from rdflib.graph import Graph, Store, URIRef, BNode, Literal\n",
    "from rdflib.namespace import Namespace, RDF, RDFS\n",
    "from rdflib import plugin"
   ]
  },
  {
   "cell_type": "markdown",
   "metadata": {},
   "source": [
    "The Graph class represents in RDFLib a set of triples. Create one new object, and populate it with the definitions contained in the attached file by:"
   ]
  },
  {
   "cell_type": "code",
   "execution_count": 3,
   "metadata": {},
   "outputs": [
    {
     "data": {
      "text/plain": [
       "<Graph identifier=N6754178a53da47ff97c95b825fc3faa7 (<class 'rdflib.graph.Graph'>)>"
      ]
     },
     "execution_count": 3,
     "metadata": {},
     "output_type": "execute_result"
    }
   ],
   "source": [
    "g = Graph()\n",
    "g.parse('shakespeare.n3',format='n3')"
   ]
  },
  {
   "cell_type": "markdown",
   "metadata": {},
   "source": [
    "Note that you can alternatively parse a file directly from the internet:"
   ]
  },
  {
   "cell_type": "code",
   "execution_count": 4,
   "metadata": {},
   "outputs": [
    {
     "data": {
      "text/plain": [
       "<Graph identifier=N6754178a53da47ff97c95b825fc3faa7 (<class 'rdflib.graph.Graph'>)>"
      ]
     },
     "execution_count": 4,
     "metadata": {},
     "output_type": "execute_result"
    }
   ],
   "source": [
    "g.parse('http://workingontologist.org/Examples/Chapter3/shakespeare.n3',format='n3')"
   ]
  },
  {
   "cell_type": "markdown",
   "metadata": {},
   "source": [
    "Now you got your model loaded in memory. You can check the number of statements with the `len(g)` operator (can be used with any Python collection). Other useful commands are `repr(g)`, to see a representation of any object in-memory (similar to Java `toString()`)\n",
    "\n",
    "You can iterate through the contents of a graph by using Python `for` loops (you can check loop syntax in http://docs.python.org/tutorial/controlflow.html#for-statements). Be careful with the indentation (in python instead of using `{}` sentences inside the loop must be indented with spaces or tab.\n",
    "```\n",
    "for st in g:\n",
    "    print(st)\n",
    "```\n",
    "\n",
    "You can also retrieve directly subject, predicate, and object elements by slightly changing the loop:\n",
    "```\n",
    "for s,p,o in g:\n",
    "    print \"\\nsubject is: \" + str(s) +  \"\\npredicate is: \" + str(p) + \"\\nobject is: \" + str(o)\n",
    "```\n",
    "\n",
    "The actual elements from the triples are Python classes representing URIRefs, blank nodes and literals. You can check this with python function type, which returns the type of a variable e.g., try `type(s)` `type(p)` and `type(o)`.\n",
    "\n",
    "You can also see a complete overview of the Graph class here:\n",
    "https://rdflib.readthedocs.io/en/latest/intro_to_graphs.html"
   ]
  },
  {
   "cell_type": "markdown",
   "metadata": {},
   "source": [
    "## 3. Serialization formats\n",
    "\n",
    "With your Shakespeare graph, you can compare the representation in different serialization formats:\n",
    "```\n",
    "print g.serialize(format='nt')\n",
    "print g.serialize(format='turtle')\n",
    "print g.serialize(format='xml')\n",
    "```\n",
    "Note the decreased verbosity of turtle compared to N-triples (nt). \n",
    "\n",
    "Also familiarize yourself with the XML serialization. \n",
    "\n",
    "Try saving these to a file for later study (python file-io docs)."
   ]
  },
  {
   "cell_type": "markdown",
   "metadata": {},
   "source": [
    "## 4. RDF Store\n",
    "\n",
    "In this part of the lab, you will learn how to setup and RDF Store (repository that persists RDF triples) with RDFLib.\n",
    "RDFLib defines a plugin mechanism that allows persisting the RDF triples in multiple ways, including external repositories such as relational databses (e.g. MySQL). In order to simplify it, we use a persistence option that does not depend on external storage (e.g. a MySQL database).\n",
    "\n",
    "### For an example Python script:"
   ]
  },
  {
   "cell_type": "code",
   "execution_count": 5,
   "metadata": {},
   "outputs": [],
   "source": [
    "import rdflib\n",
    "from rdflib.graph import Graph, Store, URIRef, Literal\n",
    "from rdflib.namespace import Namespace, RDF, RDFS\n",
    "from rdflib import plugin\n",
    "# An RDF/XML example (taken from:http://www.w3schools.com/rdf/rdf_example.asp)\n",
    "rdf_xml_data = '''<?xml version=\"1.0\"?>\n",
    "<rdf:RDF xmlns:rdf=\"http://www.w3.org/1999/02/22-rdf-syntax-ns#\" xmlns:cd=\"http://www.recshop.fake/cd#\">\n",
    "<rdf:Description\n",
    "rdf:about=\"http://www.recshop.fake/cd/Empire_Burlesque\">\n",
    "  <cd:artist>Bob_Dylan</cd:artist>\n",
    "  <cd:country>USA</cd:country>\n",
    "  <cd:company>Columbia</cd:company>\n",
    "  <cd:price>10.90</cd:price>\n",
    "  <cd:year>1985</cd:year>\n",
    "</rdf:Description>\n",
    "<rdf:Description\n",
    "rdf:about=\"http://www.recshop.fake/cd/Hide_your_heart\">\n",
    "  <cd:artist>Bonnie_Tyler</cd:artist>\n",
    "  <cd:country>UK</cd:country>\n",
    "  <cd:company>CBS_Records</cd:company>\n",
    "  <cd:price>9.90</cd:price>\n",
    "  <cd:year>1988</cd:year>\n",
    "</rdf:Description>\n",
    "</rdf:RDF>\n",
    "'''"
   ]
  },
  {
   "cell_type": "markdown",
   "metadata": {},
   "source": [
    "### PART 1: create and RDF store in memory\n",
    " \n",
    "NOTE: other storage backend types may be Sleepycat (Berkley DB), MySQL, SQLite, etc..."
   ]
  },
  {
   "cell_type": "code",
   "execution_count": 6,
   "metadata": {},
   "outputs": [],
   "source": [
    "memory_store = plugin.get('IOMemory', Store)()"
   ]
  },
  {
   "cell_type": "markdown",
   "metadata": {},
   "source": [
    "Create an URI identifying the store:"
   ]
  },
  {
   "cell_type": "code",
   "execution_count": 7,
   "metadata": {},
   "outputs": [],
   "source": [
    "graph_id = URIRef('http://example.com/foo')"
   ]
  },
  {
   "cell_type": "markdown",
   "metadata": {},
   "source": [
    "￼Create an RDF graph using the store and ID defined above:"
   ]
  },
  {
   "cell_type": "code",
   "execution_count": 8,
   "metadata": {},
   "outputs": [],
   "source": [
    "g = Graph(store=memory_store, identifier=graph_id)"
   ]
  },
  {
   "cell_type": "markdown",
   "metadata": {},
   "source": [
    "### PART 2: manually add a triple to the graph\n",
    "\n",
    "Think of a few literals that share the same properties (e.g. wrote, partOf, married) of the previous graph and define a new graph based on the same concepts.\n",
    "\n",
    "In order to define programmatically triples in RDFLib you have two options. You can either define the URIRef by providing the fully qualified name as s String (see previous piece of code), or you can define URIRefs through Namespaces, following the syntax `ns[‘resourceFragment’]`.\n",
    "\n",
    "RDF, and RDFS schemas are predefined namespaces you can already use (e.g. to retrieve). The following lines define additional namespace prefixes that appeared in the imported Turtle file:"
   ]
  },
  {
   "cell_type": "code",
   "execution_count": 9,
   "metadata": {},
   "outputs": [],
   "source": [
    "nslit = Namespace('http://www.workingontologist.org/Examples/Chapter3/shakespeare.owl#')\n",
    "nsbio = Namespace('http://www.workingontologist.org/Examples/Chapter3/biography.owl#')\n",
    "g.bind('lit',nslit)\n",
    "g.bind('bio', nsbio)"
   ]
  },
  {
   "cell_type": "markdown",
   "metadata": {},
   "source": [
    "You can check the prefixes in your bound namespaces with:\n",
    "```\n",
    "for (p,n) in g.namespaces():\n",
    "    print \"Prefix: \" + str(p) + \". Corresponds to namespace: \" + str(n)\n",
    "```\n",
    "Once you have defined your namespaces you can add triples to the graph with the method `g.add( (a,b,c ) )`:"
   ]
  },
  {
   "cell_type": "code",
   "execution_count": 10,
   "metadata": {},
   "outputs": [],
   "source": [
    "g.add((nsbio['Cervantes'],RDF.type, nsbio['Person'] ) )\n",
    "g.add((nsbio['Cervantes'],RDFS.label, Literal('Miguel_de_Cervantes')))\n",
    "g.add((URIRef(u'http://example.com/bar'), RDFS.label, Literal('bar')))"
   ]
  },
  {
   "cell_type": "markdown",
   "metadata": {},
   "source": [
    "Print the serialized graph in the Turtle RDF syntax:"
   ]
  },
  {
   "cell_type": "code",
   "execution_count": 11,
   "metadata": {},
   "outputs": [
    {
     "name": "stdout",
     "output_type": "stream",
     "text": [
      "@prefix bio: <http://www.workingontologist.org/Examples/Chapter3/biography.owl#> .\n",
      "@prefix lit: <http://www.workingontologist.org/Examples/Chapter3/shakespeare.owl#> .\n",
      "@prefix rdf: <http://www.w3.org/1999/02/22-rdf-syntax-ns#> .\n",
      "@prefix rdfs: <http://www.w3.org/2000/01/rdf-schema#> .\n",
      "@prefix xml: <http://www.w3.org/XML/1998/namespace> .\n",
      "@prefix xsd: <http://www.w3.org/2001/XMLSchema#> .\n",
      "\n",
      "<http://example.com/bar> rdfs:label \"bar\" .\n",
      "\n",
      "bio:Cervantes a bio:Person ;\n",
      "    rdfs:label \"Miguel_de_Cervantes\" .\n",
      "\n",
      "\n"
     ]
    }
   ],
   "source": [
    "print g.serialize(destination=None, format='turtle', base=None, encoding=None)"
   ]
  },
  {
   "cell_type": "markdown",
   "metadata": {},
   "source": [
    "NOTE: predicate RDFS.label will be extended as a full URI: http://www.w3.org/2000/01/rdf-schema#label\n",
    "\n",
    "Bind a namespace prefix for the example URI reference:"
   ]
  },
  {
   "cell_type": "code",
   "execution_count": 12,
   "metadata": {},
   "outputs": [],
   "source": [
    "g.bind('ex','http://example.com/')"
   ]
  },
  {
   "cell_type": "markdown",
   "metadata": {},
   "source": [
    "Print the serialized graph in the Turtle RDF syntax.\n",
    "\n",
    "Note the subject “bar” is abbreviated now that we bound the namespace example.com"
   ]
  },
  {
   "cell_type": "code",
   "execution_count": 13,
   "metadata": {},
   "outputs": [
    {
     "name": "stdout",
     "output_type": "stream",
     "text": [
      "@prefix bio: <http://www.workingontologist.org/Examples/Chapter3/biography.owl#> .\n",
      "@prefix ex: <http://example.com/> .\n",
      "@prefix lit: <http://www.workingontologist.org/Examples/Chapter3/shakespeare.owl#> .\n",
      "@prefix rdf: <http://www.w3.org/1999/02/22-rdf-syntax-ns#> .\n",
      "@prefix rdfs: <http://www.w3.org/2000/01/rdf-schema#> .\n",
      "@prefix xml: <http://www.w3.org/XML/1998/namespace> .\n",
      "@prefix xsd: <http://www.w3.org/2001/XMLSchema#> .\n",
      "\n",
      "ex:bar rdfs:label \"bar\" .\n",
      "\n",
      "bio:Cervantes a bio:Person ;\n",
      "    rdfs:label \"Miguel_de_Cervantes\" .\n",
      "\n",
      "\n"
     ]
    }
   ],
   "source": [
    "print g.serialize(destination=None, format='turtle', base=None, encoding=None)"
   ]
  },
  {
   "cell_type": "markdown",
   "metadata": {},
   "source": [
    "### PART 3: parse XML/RDF data provided earlier in a string (`rdf_xml_data`) and add into the graph"
   ]
  },
  {
   "cell_type": "code",
   "execution_count": 14,
   "metadata": {},
   "outputs": [
    {
     "name": "stdout",
     "output_type": "stream",
     "text": [
      "Number of triples in the graph: 3\n"
     ]
    }
   ],
   "source": [
    "print \"Number of triples in the graph: %i\" %len(g)"
   ]
  },
  {
   "cell_type": "code",
   "execution_count": 15,
   "metadata": {},
   "outputs": [
    {
     "name": "stdout",
     "output_type": "stream",
     "text": [
      "Number of triples in the graph after parsing the string: 13\n"
     ]
    }
   ],
   "source": [
    "g.parse(data=rdf_xml_data, format=\"application/rdf+xml\")\n",
    "print \"Number of triples in the graph after parsing the string: %i\" %len(g)"
   ]
  },
  {
   "cell_type": "markdown",
   "metadata": {},
   "source": [
    "Check the actual namespaces bound in the graph store:\n",
    "\n",
    "NOTE: there should be one additional namespace after parsing the string."
   ]
  },
  {
   "cell_type": "code",
   "execution_count": 16,
   "metadata": {},
   "outputs": [
    {
     "name": "stdout",
     "output_type": "stream",
     "text": [
      "Prefix: xml => URI: http://www.w3.org/XML/1998/namespace\n",
      "Prefix: bio => URI: http://www.workingontologist.org/Examples/Chapter3/biography.owl#\n",
      "Prefix: rdfs => URI: http://www.w3.org/2000/01/rdf-schema#\n",
      "Prefix: cd => URI: http://www.recshop.fake/cd#\n",
      "Prefix: lit => URI: http://www.workingontologist.org/Examples/Chapter3/shakespeare.owl#\n",
      "Prefix: rdf => URI: http://www.w3.org/1999/02/22-rdf-syntax-ns#\n",
      "Prefix: ex => URI: http://example.com/\n",
      "Prefix: xsd => URI: http://www.w3.org/2001/XMLSchema#\n"
     ]
    }
   ],
   "source": [
    "for ns in g.namespaces():\n",
    "     print \"Prefix: %s => URI: %s\" %ns"
   ]
  },
  {
   "cell_type": "markdown",
   "metadata": {},
   "source": [
    "Serialise the graph:\n",
    "\n",
    "Note that we have simply joined the two graphs although they are describing different datasets."
   ]
  },
  {
   "cell_type": "code",
   "execution_count": 17,
   "metadata": {},
   "outputs": [
    {
     "name": "stdout",
     "output_type": "stream",
     "text": [
      "\n",
      "Contents of Graph store in Turtle format\n",
      "\n",
      "@prefix bio: <http://www.workingontologist.org/Examples/Chapter3/biography.owl#> .\n",
      "@prefix cd: <http://www.recshop.fake/cd#> .\n",
      "@prefix ex: <http://example.com/> .\n",
      "@prefix lit: <http://www.workingontologist.org/Examples/Chapter3/shakespeare.owl#> .\n",
      "@prefix rdf: <http://www.w3.org/1999/02/22-rdf-syntax-ns#> .\n",
      "@prefix rdfs: <http://www.w3.org/2000/01/rdf-schema#> .\n",
      "@prefix xml: <http://www.w3.org/XML/1998/namespace> .\n",
      "@prefix xsd: <http://www.w3.org/2001/XMLSchema#> .\n",
      "\n",
      "ex:bar rdfs:label \"bar\" .\n",
      "\n",
      "<http://www.recshop.fake/cd/Empire_Burlesque> cd:artist \"Bob_Dylan\" ;\n",
      "    cd:company \"Columbia\" ;\n",
      "    cd:country \"USA\" ;\n",
      "    cd:price \"10.90\" ;\n",
      "    cd:year \"1985\" .\n",
      "\n",
      "<http://www.recshop.fake/cd/Hide_your_heart> cd:artist \"Bonnie_Tyler\" ;\n",
      "    cd:company \"CBS_Records\" ;\n",
      "    cd:country \"UK\" ;\n",
      "    cd:price \"9.90\" ;\n",
      "    cd:year \"1988\" .\n",
      "\n",
      "bio:Cervantes a bio:Person ;\n",
      "    rdfs:label \"Miguel_de_Cervantes\" .\n",
      "\n",
      "\n"
     ]
    }
   ],
   "source": [
    "print \"\\nContents of Graph store in Turtle format\\n\"\n",
    "print g.serialize(destination=None, format='turtle')"
   ]
  },
  {
   "cell_type": "markdown",
   "metadata": {},
   "source": [
    "Manually retrieve the names of artists stored in a graph:\n",
    "    \n",
    "`g.objects` is a generator for objects matching the specified subject and predicate. \n",
    "\n",
    "(See https://rdflib.readthedocs.org/en/latest/using_graphs.html)"
   ]
  },
  {
   "cell_type": "code",
   "execution_count": 18,
   "metadata": {},
   "outputs": [
    {
     "name": "stdout",
     "output_type": "stream",
     "text": [
      "Bonnie_Tyler\n",
      "Bob_Dylan\n"
     ]
    }
   ],
   "source": [
    "for artist in g.objects(subject=None, predicate=URIRef(\"http://www.recshop.fake/cd#artist\")):\n",
    "    print artist"
   ]
  },
  {
   "cell_type": "markdown",
   "metadata": {},
   "source": [
    "#### Experiment with\n",
    "1. Adding new CD/artist data to the recordstore graph.\n",
    "2. Searching the for subjects (so far we searched for objects)\n",
    "3. Searching the graph for predicates. (e.g., `Graph.predicates` )"
   ]
  },
  {
   "cell_type": "markdown",
   "metadata": {},
   "source": [
    "## 5. Visualizing Graphs\n",
    "\n",
    "Use graphviz (see Oreilly book Chapter 3) to produce and visualize graphically the graphs you have created.\n",
    "\n",
    "The following code creates a DOT file containing those same triples, to be used by Graphviz."
   ]
  },
  {
   "cell_type": "code",
   "execution_count": 19,
   "metadata": {},
   "outputs": [
    {
     "name": "stdout",
     "output_type": "stream",
     "text": [
      "http://www.w3.org/XML/1998/namespace xml:\n",
      "http://www.workingontologist.org/Examples/Chapter3/biography.owl# bio:\n",
      "http://www.w3.org/2000/01/rdf-schema# rdfs:\n",
      "http://www.recshop.fake/cd# cd:\n",
      "http://www.workingontologist.org/Examples/Chapter3/shakespeare.owl# lit:\n",
      "http://www.w3.org/1999/02/22-rdf-syntax-ns# rdf:\n",
      "http://example.com/ ex:\n",
      "http://www.w3.org/2001/XMLSchema# xsd:\n"
     ]
    }
   ],
   "source": [
    "def triplestodot(triples, filename, nsdict):\n",
    "    out=file(filename, 'w')\n",
    "    out.write('graph \"SimpleGraph\" {\\n')\n",
    "    out.write('overlap = \"scale\";\\n')\n",
    "    for t in triples:\n",
    "        write_string = '\"%s\" -- \"%s \" [label=\"%s\"] ;\\n' % (t[0].encode('utf-8'), t[2].encode('utf-8'), t[1].encode('utf-8'))\n",
    "        for item in nsdict:\n",
    "            write_string = write_string.replace(item, nsdict[item])\n",
    "        out.write(write_string)\n",
    "    out.write('}')\n",
    "\n",
    "namespacedict = {}\n",
    "for (p,n) in g.namespaces():\n",
    "    print n, p+ ':'\n",
    "    namespacedict[n] = p + ':'\n",
    "    \n",
    "triplestodot(g,'my_graph_lab1.dot', namespacedict)"
   ]
  },
  {
   "cell_type": "markdown",
   "metadata": {},
   "source": [
    "This should save a file called `my_graph_lab1.dot`. \n",
    "\n",
    "There are some online DOT viewers that are quite handy to view `.dot` as image, such as:\n",
    "- http://www.webgraphviz.com/\n",
    "- http://viz-js.com/\n",
    "- https://dreampuf.github.io/GraphvizOnline/"
   ]
  },
  {
   "cell_type": "markdown",
   "metadata": {},
   "source": [
    "## 6. Extra Practice\n",
    "\n",
    "Work through the examples available on the RDF lib documentation https://rdflib.readthedocs.org/en/latest/index.html\n",
    "\n",
    "You can also have a look at the examples from the OReilly book (http://proquestcombo.safaribooksonline.com/book/web-development/9780596802141) to see how to manipulate RDFLib graphs. However, keep in mind that they were written using an older version of the library, and some small differences may appear (such as the packages where classes are imported from)."
   ]
  }
 ],
 "metadata": {
  "kernelspec": {
   "display_name": "Python 2",
   "language": "python",
   "name": "python2"
  },
  "language_info": {
   "codemirror_mode": {
    "name": "ipython",
    "version": 2
   },
   "file_extension": ".py",
   "mimetype": "text/x-python",
   "name": "python",
   "nbconvert_exporter": "python",
   "pygments_lexer": "ipython2",
   "version": "2.7.14"
  }
 },
 "nbformat": 4,
 "nbformat_minor": 2
}
